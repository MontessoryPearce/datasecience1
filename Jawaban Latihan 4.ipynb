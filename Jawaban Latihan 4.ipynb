{
 "cells": [
  {
   "cell_type": "code",
   "execution_count": 1,
   "metadata": {},
   "outputs": [
    {
     "name": "stdout",
     "output_type": "stream",
     "text": [
      "<class 'numpy.ndarray'>\n",
      "[180 215 210 210 188 176 209 200]\n"
     ]
    }
   ],
   "source": [
    "#jawaban nomer 1\n",
    "tinggi = [180, 215, 210, 210, 188, 176, 209, 200] # dalam cm \n",
    "\n",
    "# Import numpy dengan alias np\n",
    "import numpy as np\n",
    "\n",
    "# Buat numpy array dengan list tinggi beri nama variabel np_tinggi\n",
    "np_tinggi = np.array(tinggi)\n",
    "\n",
    "\n",
    "# Print tipe data np_baseball\n",
    "print(type(np_tinggi))\n",
    "print(np_tinggi)\n"
   ]
  },
  {
   "cell_type": "code",
   "execution_count": 3,
   "metadata": {},
   "outputs": [
    {
     "name": "stdout",
     "output_type": "stream",
     "text": [
      "[1.8  2.15 2.1  2.1  1.88 1.76 2.09 2.  ]\n"
     ]
    }
   ],
   "source": [
    "#jawaban nomer 2\n",
    "# Buat np_tinggi menjadi dalam satuan meter\n",
    "np_tinggi = np.divide(np_tinggi,100)\n",
    "\n",
    "# print np_tinggi\n",
    "print(np_tinggi)"
   ]
  },
  {
   "cell_type": "code",
   "execution_count": 4,
   "metadata": {},
   "outputs": [
    {
     "name": "stdout",
     "output_type": "stream",
     "text": [
      "[49.16666667 46.51162791 46.66666667 48.0952381  41.64893617 37.10227273\n",
      " 52.15311005 55.        ]\n"
     ]
    }
   ],
   "source": [
    "#jawaban nomer 3\n",
    "berat = [88.5, 100, 98, 101, 78.3, 65.3, 109, 110]\n",
    "\n",
    "# Buatlah numpy array dari list berat dan simpan dalam np_berat\n",
    "np_berat = np.array(berat)\n",
    "\n",
    "# hitung bmi dari berat dan tinggi simpan ke dalam variabel bmi\n",
    "bmi = np.divide(np_berat, np_tinggi)\n",
    "print(bmi)"
   ]
  },
  {
   "cell_type": "code",
   "execution_count": 5,
   "metadata": {},
   "outputs": [
    {
     "name": "stdout",
     "output_type": "stream",
     "text": [
      "[ True  True  True  True  True  True  True  True]\n",
      "[49.16666667 46.51162791 46.66666667 48.0952381  41.64893617 37.10227273\n",
      " 52.15311005 55.        ]\n"
     ]
    }
   ],
   "source": [
    "#jawaban nomer 4\n",
    "# Simpan dalam variabel bmi_tinggi\n",
    "bmi_tinggi = bmi > 23\n",
    "print(bmi_tinggi)\n",
    "\n",
    "# Partisi numpy array bmi dengan menggunkan bmi_tinggi untuk mencari bmi yang hanya lebih besar dari 23\n",
    "print(bmi[bmi_tinggi])"
   ]
  },
  {
   "cell_type": "code",
   "execution_count": 7,
   "metadata": {},
   "outputs": [
    {
     "name": "stdout",
     "output_type": "stream",
     "text": [
      "A\n"
     ]
    }
   ],
   "source": [
    "#jawaban nomer 5\n",
    "print (\"A\")"
   ]
  },
  {
   "cell_type": "code",
   "execution_count": 8,
   "metadata": {},
   "outputs": [
    {
     "name": "stdout",
     "output_type": "stream",
     "text": [
      "[ 88.5 100.   98.  101.   78.3  65.3 109. ]\n"
     ]
    }
   ],
   "source": [
    "#jawaban nomer 6\n",
    "# print hasil np_berat yang melik index terakhir\n",
    "print(np_berat[:-1])"
   ]
  },
  {
   "cell_type": "code",
   "execution_count": 9,
   "metadata": {},
   "outputs": [
    {
     "name": "stdout",
     "output_type": "stream",
     "text": [
      "<class 'numpy.ndarray'>\n",
      "[[180.   78.4]\n",
      " [215.  102.7]\n",
      " [210.   98.5]\n",
      " [188.   75.2]]\n",
      "(4, 2)\n"
     ]
    }
   ],
   "source": [
    "#jawaban nomer 7\n",
    "pemain_basket = [[180, 78.4],\n",
    "                [215, 102.7],\n",
    "                [210, 98.5],\n",
    "                [188, 75.2]]\n",
    "\n",
    "# Buatlah 2D array dari pemain_basket simpan dalam variabel basket_2d\n",
    "basket_2d = np.array(pemain_basket)\n",
    "\n",
    "# print tipe dari basket_2d\n",
    "print(type(basket_2d))\n",
    "\n",
    "# print basket_2d\n",
    "print(basket_2d)\n",
    "\n",
    "# print dimensi dari basket_2d dengan basket_2d.shape\n",
    "print(basket_2d.shape)"
   ]
  },
  {
   "cell_type": "code",
   "execution_count": 10,
   "metadata": {},
   "outputs": [
    {
     "name": "stdout",
     "output_type": "stream",
     "text": [
      "[180. 215. 210. 188.]\n",
      "[98.5 75.2]\n"
     ]
    }
   ],
   "source": [
    "#jawaban nomer 8\n",
    "# Gunakan slicing untuk untuk mengambil hanya kolom pertama dari basket_2d\n",
    "print(basket_2d[:,0])\n",
    "\n",
    "\n",
    "# Gunakan slicing untuk mendapatkan 2 baris terakhir dan hanya kolom kedua dari basket_2d\n",
    "print(basket_2d[-2:,1])"
   ]
  },
  {
   "cell_type": "code",
   "execution_count": 11,
   "metadata": {},
   "outputs": [
    {
     "name": "stdout",
     "output_type": "stream",
     "text": [
      "[[ 2  4]\n",
      " [ 6  8]\n",
      " [10 12]]\n",
      "[[11 12]\n",
      " [13 14]\n",
      " [15 16]]\n",
      "[[ 2  4]\n",
      " [ 6  8]\n",
      " [10 12]]\n"
     ]
    }
   ],
   "source": [
    "#jawaban nomer 9\n",
    "np_mat = np.array([[1, 2],\n",
    "                   [3, 4],\n",
    "                   [5, 6]])\n",
    "print(np_mat * 2)\n",
    "print(np_mat + np.array([10, 10]))\n",
    "print(np_mat + np_mat)"
   ]
  },
  {
   "cell_type": "code",
   "execution_count": 12,
   "metadata": {},
   "outputs": [
    {
     "name": "stdout",
     "output_type": "stream",
     "text": [
      "[ 83.4 107.7 103.5  80.2]\n",
      "[1.8  2.15 2.1  1.88]\n"
     ]
    }
   ],
   "source": [
    "# Print dengan tambahkan berat dari basket_2d (kolom kedua) dengan 5 \n",
    "print(np.add(basket_2d[:,1],5))\n",
    "\n",
    "# Print dengan mengubah tinggi basket_2d (kolom pertama) yang awalnya satuannya cm menjadi m\n",
    "print(np.divide(basket_2d[:,0],100))"
   ]
  },
  {
   "cell_type": "code",
   "execution_count": 14,
   "metadata": {},
   "outputs": [
    {
     "name": "stdout",
     "output_type": "stream",
     "text": [
      "1.9849999999999999\n",
      "2.045\n"
     ]
    }
   ],
   "source": [
    "#jawaban nomer 10\n",
    "# Berapakah mean dari np_tinggi? Kemudian print\n",
    "print(np.mean(np_tinggi))\n",
    "\n",
    "# Berapakah median dari np_tinggi? Kemudian print\n",
    "print(np.median(np_tinggi))"
   ]
  },
  {
   "cell_type": "code",
   "execution_count": 15,
   "metadata": {},
   "outputs": [
    {
     "name": "stdout",
     "output_type": "stream",
     "text": [
      "Rata - Rata: 198.25\n",
      "Median: 141.35\n",
      "Standard Deviation: 56.390973346804365\n",
      "Korealasi: [[1. 1. 1. 1.]\n",
      " [1. 1. 1. 1.]\n",
      " [1. 1. 1. 1.]\n",
      " [1. 1. 1. 1.]]\n"
     ]
    }
   ],
   "source": [
    "#jawaban nomer 11\n",
    "# Print tinggi dari basket_2d (kolom pertama)\n",
    "rata_rata = np.mean(basket_2d[:,0])\n",
    "print(\"Rata - Rata: \" + str(rata_rata) )\n",
    "\n",
    "# Print median dari tinggi basket_2d\n",
    "med = np.median(basket_2d)\n",
    "print(\"Median: \" + str(med))\n",
    "\n",
    "# Print standar deviasi dari basket_2d\n",
    "stddev = np.std(basket_2d)\n",
    "print(\"Standard Deviation: \" + str(stddev))\n",
    "\n",
    "# Print korelasi antara kolom pertama dengan kedua dari basket_2d\n",
    "korelasi = np.corrcoef(basket_2d[:,[0,1]])\n",
    "print(\"Korealasi: \" + str(korelasi))"
   ]
  },
  {
   "cell_type": "code",
   "execution_count": null,
   "metadata": {},
   "outputs": [],
   "source": []
  }
 ],
 "metadata": {
  "kernelspec": {
   "display_name": "Python 3",
   "language": "python",
   "name": "python3"
  },
  "language_info": {
   "codemirror_mode": {
    "name": "ipython",
    "version": 3
   },
   "file_extension": ".py",
   "mimetype": "text/x-python",
   "name": "python",
   "nbconvert_exporter": "python",
   "pygments_lexer": "ipython3",
   "version": "3.7.4"
  }
 },
 "nbformat": 4,
 "nbformat_minor": 2
}
